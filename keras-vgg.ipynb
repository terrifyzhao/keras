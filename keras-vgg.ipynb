{
 "cells": [
  {
   "cell_type": "markdown",
   "metadata": {},
   "source": [
    "首先还是读取我们的数据集，这里我们对数据做一个归一化的处理，方便模型收敛，并且对label做一个one-hot处理，因为是10分类问题，所以num_classes这个参数的值为10。"
   ]
  },
  {
   "cell_type": "code",
   "execution_count": 1,
   "metadata": {},
   "outputs": [
    {
     "name": "stderr",
     "output_type": "stream",
     "text": [
      "Using TensorFlow backend.\n"
     ]
    },
    {
     "ename": "NameError",
     "evalue": "name 'keras' is not defined",
     "output_type": "error",
     "traceback": [
      "\u001b[1;31m---------------------------------------------------------------------------\u001b[0m",
      "\u001b[1;31mNameError\u001b[0m                                 Traceback (most recent call last)",
      "\u001b[1;32m<ipython-input-1-5ea27a26acf0>\u001b[0m in \u001b[0;36m<module>\u001b[1;34m\u001b[0m\n\u001b[0;32m      5\u001b[0m \u001b[0mx_train\u001b[0m \u001b[1;33m=\u001b[0m \u001b[0mx_train\u001b[0m \u001b[1;33m/\u001b[0m \u001b[1;36m255\u001b[0m\u001b[1;33m\u001b[0m\u001b[0m\n\u001b[0;32m      6\u001b[0m \u001b[0mx_test\u001b[0m \u001b[1;33m=\u001b[0m \u001b[0mx_test\u001b[0m \u001b[1;33m/\u001b[0m \u001b[1;36m255\u001b[0m\u001b[1;33m\u001b[0m\u001b[0m\n\u001b[1;32m----> 7\u001b[1;33m \u001b[0my_train\u001b[0m \u001b[1;33m=\u001b[0m \u001b[0mkeras\u001b[0m\u001b[1;33m.\u001b[0m\u001b[0mutils\u001b[0m\u001b[1;33m.\u001b[0m\u001b[0mto_categorical\u001b[0m\u001b[1;33m(\u001b[0m\u001b[0my_train\u001b[0m\u001b[1;33m,\u001b[0m \u001b[0mnum_classes\u001b[0m\u001b[1;33m=\u001b[0m\u001b[1;36m10\u001b[0m\u001b[1;33m)\u001b[0m\u001b[1;33m\u001b[0m\u001b[0m\n\u001b[0m\u001b[0;32m      8\u001b[0m \u001b[0my_test\u001b[0m \u001b[1;33m=\u001b[0m \u001b[0mkeras\u001b[0m\u001b[1;33m.\u001b[0m\u001b[0mutils\u001b[0m\u001b[1;33m.\u001b[0m\u001b[0mto_categorical\u001b[0m\u001b[1;33m(\u001b[0m\u001b[0my_test\u001b[0m\u001b[1;33m,\u001b[0m \u001b[0mnum_classes\u001b[0m\u001b[1;33m=\u001b[0m\u001b[1;36m10\u001b[0m\u001b[1;33m)\u001b[0m\u001b[1;33m\u001b[0m\u001b[0m\n",
      "\u001b[1;31mNameError\u001b[0m: name 'keras' is not defined"
     ]
    }
   ],
   "source": [
    "from keras.datasets import cifar10\n",
    "from keras.utils import to_categorical\n",
    "\n",
    "(x_train, y_train), (x_test, y_test) = cifar10.load_data()\n",
    "x_train = x_train / 255\n",
    "x_test = x_test / 255\n",
    "y_train = keras.utils.to_categorical(y_train, num_classes=10)\n",
    "y_test = keras.utils.to_categorical(y_test, num_classes=10)"
   ]
  },
  {
   "cell_type": "markdown",
   "metadata": {},
   "source": [
    "模型搭建阶段我们依旧采用序贯模型Sequential，整体的结构上文已经提过，这里不再赘述。"
   ]
  },
  {
   "cell_type": "code",
   "execution_count": 36,
   "metadata": {},
   "outputs": [
    {
     "name": "stdout",
     "output_type": "stream",
     "text": [
      "_________________________________________________________________\n",
      "Layer (type)                 Output Shape              Param #   \n",
      "=================================================================\n",
      "conv2d_141 (Conv2D)          (None, 32, 32, 32)        896       \n",
      "_________________________________________________________________\n",
      "conv2d_142 (Conv2D)          (None, 32, 32, 32)        9248      \n",
      "_________________________________________________________________\n",
      "max_pooling2d_58 (MaxPooling (None, 16, 16, 32)        0         \n",
      "_________________________________________________________________\n",
      "dropout_86 (Dropout)         (None, 16, 16, 32)        0         \n",
      "_________________________________________________________________\n",
      "conv2d_143 (Conv2D)          (None, 16, 16, 64)        18496     \n",
      "_________________________________________________________________\n",
      "conv2d_144 (Conv2D)          (None, 16, 16, 64)        36928     \n",
      "_________________________________________________________________\n",
      "max_pooling2d_59 (MaxPooling (None, 8, 8, 64)          0         \n",
      "_________________________________________________________________\n",
      "dropout_87 (Dropout)         (None, 8, 8, 64)          0         \n",
      "_________________________________________________________________\n",
      "conv2d_145 (Conv2D)          (None, 8, 8, 128)         73856     \n",
      "_________________________________________________________________\n",
      "conv2d_146 (Conv2D)          (None, 8, 8, 128)         147584    \n",
      "_________________________________________________________________\n",
      "conv2d_147 (Conv2D)          (None, 8, 8, 128)         147584    \n",
      "_________________________________________________________________\n",
      "max_pooling2d_60 (MaxPooling (None, 4, 4, 128)         0         \n",
      "_________________________________________________________________\n",
      "dropout_88 (Dropout)         (None, 4, 4, 128)         0         \n",
      "_________________________________________________________________\n",
      "flatten_17 (Flatten)         (None, 2048)              0         \n",
      "_________________________________________________________________\n",
      "dense_45 (Dense)             (None, 512)               1049088   \n",
      "_________________________________________________________________\n",
      "dropout_89 (Dropout)         (None, 512)               0         \n",
      "_________________________________________________________________\n",
      "dense_46 (Dense)             (None, 256)               131328    \n",
      "_________________________________________________________________\n",
      "dropout_90 (Dropout)         (None, 256)               0         \n",
      "_________________________________________________________________\n",
      "dense_47 (Dense)             (None, 10)                2570      \n",
      "=================================================================\n",
      "Total params: 1,617,578\n",
      "Trainable params: 1,617,578\n",
      "Non-trainable params: 0\n",
      "_________________________________________________________________\n"
     ]
    }
   ],
   "source": [
    "import numpy as np\n",
    "import keras\n",
    "from keras.models import Sequential\n",
    "from keras.layers import Dense, Dropout, Flatten\n",
    "from keras.layers import Conv2D, MaxPooling2D\n",
    "from keras.optimizers import SGD\n",
    "\n",
    "model = Sequential()\n",
    "# input: 100x100 images with 3 channels -> (100, 100, 3) tensors.\n",
    "# this applies 32 convolution filters of size 3x3 each.\n",
    "model.add(Conv2D(32, (3, 3), activation='relu', input_shape=(32, 32, 3), padding='same'))\n",
    "model.add(Conv2D(32, (3, 3), activation='relu', padding='same'))\n",
    "model.add(MaxPooling2D(pool_size=(2, 2)))\n",
    "model.add(Dropout(0.25))\n",
    "\n",
    "model.add(Conv2D(64, (3, 3), activation='relu', padding='same'))\n",
    "model.add(Conv2D(64, (3, 3), activation='relu', padding='same'))\n",
    "model.add(MaxPooling2D(pool_size=(2, 2)))\n",
    "model.add(Dropout(0.25))\n",
    "\n",
    "model.add(Conv2D(128, (3, 3), activation='relu', padding='same'))\n",
    "model.add(Conv2D(128, (3, 3), activation='relu', padding='same'))\n",
    "model.add(Conv2D(128, (3, 3), activation='relu', padding='same'))\n",
    "model.add(MaxPooling2D(pool_size=(2, 2)))\n",
    "model.add(Dropout(0.25))\n",
    "\n",
    "model.add(Flatten())\n",
    "model.add(Dense(512, activation='relu'))\n",
    "model.add(Dropout(0.5))\n",
    "model.add(Dense(256, activation='relu'))\n",
    "model.add(Dropout(0.5))\n",
    "model.add(Dense(10, activation='softmax'))"
   ]
  },
  {
   "cell_type": "markdown",
   "metadata": {},
   "source": [
    "然后是定义损失函数、优化方法、评估指标。"
   ]
  },
  {
   "cell_type": "code",
   "execution_count": null,
   "metadata": {},
   "outputs": [],
   "source": [
    "model.compile(loss='categorical_crossentropy', \n",
    "              optimizer='adam', \n",
    "              metrics=['accuracy'])\n",
    "\n",
    "model.summary()"
   ]
  },
  {
   "cell_type": "markdown",
   "metadata": {},
   "source": [
    "模型准备完成后就可以开始训练了，这里我们引入了EarlyStopping，EarlyStopping可以保证模型在准确率不在提升的前提下提前结束训练，其中monitor参数表示的是停止时参考的指标，这里我们采用的是准确率，patience的意思是多少轮指标没有改变模型训练就停止，这里我们使用的是5，也就是说如果训练五轮，准确率依旧没有提升即停止训练。"
   ]
  },
  {
   "cell_type": "code",
   "execution_count": 37,
   "metadata": {},
   "outputs": [
    {
     "name": "stdout",
     "output_type": "stream",
     "text": [
      "Epoch 1/200\n",
      "50000/50000 [==============================] - 19s 378us/step - loss: 1.8772 - acc: 0.2659\n",
      "Epoch 2/200\n",
      "50000/50000 [==============================] - 17s 349us/step - loss: 1.4498 - acc: 0.4635\n",
      "Epoch 3/200\n",
      "50000/50000 [==============================] - 18s 352us/step - loss: 1.2200 - acc: 0.5600\n",
      "Epoch 4/200\n",
      "50000/50000 [==============================] - 18s 350us/step - loss: 1.0829 - acc: 0.6156\n",
      "Epoch 5/200\n",
      "50000/50000 [==============================] - 18s 351us/step - loss: 0.9924 - acc: 0.6516\n",
      "Epoch 6/200\n",
      "50000/50000 [==============================] - 17s 347us/step - loss: 0.9224 - acc: 0.6782\n",
      "Epoch 7/200\n",
      "50000/50000 [==============================] - 17s 348us/step - loss: 0.8775 - acc: 0.6994\n",
      "Epoch 8/200\n",
      "50000/50000 [==============================] - 18s 351us/step - loss: 0.8405 - acc: 0.7126\n",
      "Epoch 9/200\n",
      "50000/50000 [==============================] - 18s 351us/step - loss: 0.8073 - acc: 0.7237\n",
      "Epoch 10/200\n",
      "50000/50000 [==============================] - 17s 348us/step - loss: 0.7842 - acc: 0.7335\n",
      "Epoch 11/200\n",
      "50000/50000 [==============================] - 17s 348us/step - loss: 0.7584 - acc: 0.7399\n",
      "Epoch 12/200\n",
      "50000/50000 [==============================] - 17s 347us/step - loss: 0.7410 - acc: 0.7482\n",
      "Epoch 13/200\n",
      "50000/50000 [==============================] - 17s 346us/step - loss: 0.7225 - acc: 0.7522\n",
      "Epoch 14/200\n",
      "50000/50000 [==============================] - 17s 348us/step - loss: 0.7144 - acc: 0.7566\n",
      "Epoch 15/200\n",
      "50000/50000 [==============================] - 17s 347us/step - loss: 0.7015 - acc: 0.7615\n",
      "Epoch 16/200\n",
      "50000/50000 [==============================] - 17s 345us/step - loss: 0.6833 - acc: 0.7680\n",
      "Epoch 17/200\n",
      "50000/50000 [==============================] - 17s 345us/step - loss: 0.6780 - acc: 0.7712\n",
      "Epoch 18/200\n",
      "50000/50000 [==============================] - 17s 345us/step - loss: 0.6627 - acc: 0.7754\n",
      "Epoch 19/200\n",
      "50000/50000 [==============================] - 17s 347us/step - loss: 0.6593 - acc: 0.7766\n",
      "Epoch 20/200\n",
      "50000/50000 [==============================] - 18s 351us/step - loss: 0.6487 - acc: 0.77861s - loss\n",
      "Epoch 21/200\n",
      "50000/50000 [==============================] - 17s 349us/step - loss: 0.6385 - acc: 0.7843\n",
      "Epoch 22/200\n",
      "50000/50000 [==============================] - 17s 350us/step - loss: 0.6347 - acc: 0.7863\n",
      "Epoch 23/200\n",
      "50000/50000 [==============================] - 18s 351us/step - loss: 0.6266 - acc: 0.7881\n",
      "Epoch 24/200\n",
      "50000/50000 [==============================] - 17s 348us/step - loss: 0.6196 - acc: 0.7906\n",
      "Epoch 25/200\n",
      "50000/50000 [==============================] - 18s 350us/step - loss: 0.6078 - acc: 0.7955\n",
      "Epoch 26/200\n",
      "50000/50000 [==============================] - 18s 351us/step - loss: 0.6117 - acc: 0.7928\n",
      "Epoch 27/200\n",
      "50000/50000 [==============================] - 18s 353us/step - loss: 0.6015 - acc: 0.79901s\n",
      "Epoch 28/200\n",
      "50000/50000 [==============================] - 18s 352us/step - loss: 0.5909 - acc: 0.7994\n",
      "Epoch 29/200\n",
      "50000/50000 [==============================] - 18s 353us/step - loss: 0.5936 - acc: 0.8024\n",
      "Epoch 30/200\n",
      "50000/50000 [==============================] - 18s 352us/step - loss: 0.5928 - acc: 0.8009\n",
      "Epoch 31/200\n",
      "50000/50000 [==============================] - 18s 355us/step - loss: 0.5831 - acc: 0.8045\n",
      "Epoch 32/200\n",
      "50000/50000 [==============================] - 18s 355us/step - loss: 0.5867 - acc: 0.8034\n",
      "Epoch 33/200\n",
      "50000/50000 [==============================] - 18s 355us/step - loss: 0.5845 - acc: 0.8033\n",
      "Epoch 34/200\n",
      "50000/50000 [==============================] - 18s 355us/step - loss: 0.5761 - acc: 0.8068\n",
      "Epoch 35/200\n",
      "50000/50000 [==============================] - 18s 356us/step - loss: 0.5738 - acc: 0.8071\n",
      "Epoch 36/200\n",
      "50000/50000 [==============================] - 18s 352us/step - loss: 0.5700 - acc: 0.8086\n",
      "Epoch 37/200\n",
      "50000/50000 [==============================] - 17s 349us/step - loss: 0.5634 - acc: 0.8119\n",
      "Epoch 38/200\n",
      "50000/50000 [==============================] - 18s 351us/step - loss: 0.5600 - acc: 0.8123\n",
      "Epoch 39/200\n",
      "50000/50000 [==============================] - 18s 351us/step - loss: 0.5738 - acc: 0.8082\n",
      "Epoch 40/200\n",
      "50000/50000 [==============================] - 17s 348us/step - loss: 0.5661 - acc: 0.8115\n",
      "Epoch 41/200\n",
      "50000/50000 [==============================] - 18s 351us/step - loss: 0.5719 - acc: 0.8110\n",
      "Epoch 42/200\n",
      "50000/50000 [==============================] - 18s 354us/step - loss: 0.5644 - acc: 0.8132\n",
      "Epoch 43/200\n",
      "50000/50000 [==============================] - 18s 352us/step - loss: 0.5556 - acc: 0.8154\n",
      "Epoch 44/200\n",
      "50000/50000 [==============================] - 18s 352us/step - loss: 0.5633 - acc: 0.8127\n",
      "Epoch 45/200\n",
      "50000/50000 [==============================] - 18s 352us/step - loss: 0.5525 - acc: 0.81621s - loss: 0.55\n",
      "Epoch 46/200\n",
      "50000/50000 [==============================] - 18s 352us/step - loss: 0.5558 - acc: 0.8163\n",
      "Epoch 47/200\n",
      "50000/50000 [==============================] - 18s 352us/step - loss: 0.5605 - acc: 0.8141\n",
      "Epoch 48/200\n",
      "50000/50000 [==============================] - 18s 352us/step - loss: 0.5540 - acc: 0.8173\n",
      "Epoch 49/200\n",
      "50000/50000 [==============================] - 17s 348us/step - loss: 0.5592 - acc: 0.8167\n",
      "Epoch 50/200\n",
      "50000/50000 [==============================] - 17s 347us/step - loss: 0.5430 - acc: 0.8203\n",
      "Epoch 51/200\n",
      "50000/50000 [==============================] - 17s 346us/step - loss: 0.5452 - acc: 0.8201\n",
      "Epoch 52/200\n",
      "50000/50000 [==============================] - 17s 350us/step - loss: 0.5467 - acc: 0.8190\n",
      "Epoch 53/200\n",
      "50000/50000 [==============================] - 17s 347us/step - loss: 0.5515 - acc: 0.8174\n",
      "Epoch 54/200\n",
      "50000/50000 [==============================] - 17s 346us/step - loss: 0.5502 - acc: 0.8173\n",
      "Epoch 55/200\n",
      "50000/50000 [==============================] - 17s 346us/step - loss: 0.5462 - acc: 0.8196\n",
      "Epoch 00055: early stopping\n",
      "10000/10000 [==============================] - 2s 169us/step\n",
      "Test accuracy: 0.7928\n"
     ]
    }
   ],
   "source": [
    "from keras.callbacks import EarlyStopping\n",
    "early_stopping = EarlyStopping(monitor='acc', patience=5, verbose=1)\n",
    "model.fit(x_train, y_train, batch_size=64, epochs=200, callbacks=[early_stopping])"
   ]
  },
  {
   "cell_type": "markdown",
   "metadata": {},
   "source": [
    "最后我们就可以在测试集进行测试了，可以看到最后的准确率在79.28%，当然了，读者也可以自行对上文的VGG参数进行调整来提高模型的最终效果。"
   ]
  },
  {
   "cell_type": "code",
   "execution_count": null,
   "metadata": {},
   "outputs": [],
   "source": [
    "score = model.evaluate(x_test, y_test, batch_size=64)\n",
    "print('Test accuracy:', score[1])"
   ]
  }
 ],
 "metadata": {
  "kernelspec": {
   "display_name": "Python 3",
   "language": "python",
   "name": "python3"
  },
  "language_info": {
   "codemirror_mode": {
    "name": "ipython",
    "version": 3
   },
   "file_extension": ".py",
   "mimetype": "text/x-python",
   "name": "python",
   "nbconvert_exporter": "python",
   "pygments_lexer": "ipython3",
   "version": "3.6.6"
  }
 },
 "nbformat": 4,
 "nbformat_minor": 2
}
