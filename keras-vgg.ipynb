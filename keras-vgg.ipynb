{
 "cells": [
  {
   "cell_type": "markdown",
   "metadata": {},
   "source": [
    "首先还是读取我们的数据集，这里我们对数据做一个归一化的处理，方便模型收敛，并且对label做一个one-hot处理，因为是10分类问题，所以num_classes这个参数的值为10。"
   ]
  },
  {
   "cell_type": "code",
   "execution_count": 18,
   "metadata": {},
   "outputs": [],
   "source": [
    "from keras.datasets import cifar10\n",
    "from keras.utils import to_categorical\n",
    "\n",
    "(x_train, y_train), (x_test, y_test) = cifar10.load_data()\n",
    "x_train = x_train / 255\n",
    "x_test = x_test / 255\n",
    "y_train = to_categorical(y_train, num_classes=10)\n",
    "y_test = to_categorical(y_test, num_classes=10)"
   ]
  },
  {
   "cell_type": "markdown",
   "metadata": {},
   "source": [
    "模型搭建阶段我们依旧采用序贯模型Sequential，整体的结构上文已经提过，这里不再赘述。"
   ]
  },
  {
   "cell_type": "code",
   "execution_count": 19,
   "metadata": {},
   "outputs": [],
   "source": [
    "import numpy as np\n",
    "import keras\n",
    "from keras.models import Sequential\n",
    "from keras.layers import Dense, Dropout, Flatten\n",
    "from keras.layers import Conv2D, MaxPooling2D\n",
    "from keras.optimizers import SGD\n",
    "\n",
    "model = Sequential()\n",
    "model.add(Conv2D(32, (3, 3), activation='relu', input_shape=(32, 32, 3), padding='same'))\n",
    "model.add(Conv2D(32, (3, 3), activation='relu', padding='same'))\n",
    "model.add(MaxPooling2D(pool_size=(2, 2)))\n",
    "model.add(Dropout(0.25))\n",
    "\n",
    "model.add(Conv2D(64, (3, 3), activation='relu', padding='same'))\n",
    "model.add(Conv2D(64, (3, 3), activation='relu', padding='same'))\n",
    "model.add(MaxPooling2D(pool_size=(2, 2)))\n",
    "model.add(Dropout(0.25))\n",
    "\n",
    "model.add(Conv2D(128, (3, 3), activation='relu', padding='same'))\n",
    "model.add(Conv2D(128, (3, 3), activation='relu', padding='same'))\n",
    "model.add(Conv2D(128, (3, 3), activation='relu', padding='same'))\n",
    "model.add(MaxPooling2D(pool_size=(2, 2)))\n",
    "model.add(Dropout(0.25))\n",
    "\n",
    "# model.add(Conv2D(256, (3, 3), activation='relu', padding='same'))\n",
    "# model.add(Conv2D(256, (3, 3), activation='relu', padding='same'))\n",
    "# model.add(Conv2D(256, (3, 3), activation='relu', padding='same'))\n",
    "# model.add(MaxPooling2D(pool_size=(2, 2)))\n",
    "# model.add(Dropout(0.25))\n",
    "\n",
    "model.add(Flatten())\n",
    "model.add(Dense(1024, activation='relu'))\n",
    "model.add(Dropout(0.5))\n",
    "model.add(Dense(512, activation='relu'))\n",
    "model.add(Dropout(0.5))\n",
    "model.add(Dense(10, activation='softmax'))"
   ]
  },
  {
   "cell_type": "markdown",
   "metadata": {},
   "source": [
    "然后是定义损失函数、优化方法、评估指标。"
   ]
  },
  {
   "cell_type": "code",
   "execution_count": 20,
   "metadata": {},
   "outputs": [
    {
     "name": "stdout",
     "output_type": "stream",
     "text": [
      "_________________________________________________________________\n",
      "Layer (type)                 Output Shape              Param #   \n",
      "=================================================================\n",
      "conv2d_37 (Conv2D)           (None, 32, 32, 32)        896       \n",
      "_________________________________________________________________\n",
      "conv2d_38 (Conv2D)           (None, 32, 32, 32)        9248      \n",
      "_________________________________________________________________\n",
      "max_pooling2d_13 (MaxPooling (None, 16, 16, 32)        0         \n",
      "_________________________________________________________________\n",
      "dropout_21 (Dropout)         (None, 16, 16, 32)        0         \n",
      "_________________________________________________________________\n",
      "conv2d_39 (Conv2D)           (None, 16, 16, 64)        18496     \n",
      "_________________________________________________________________\n",
      "conv2d_40 (Conv2D)           (None, 16, 16, 64)        36928     \n",
      "_________________________________________________________________\n",
      "max_pooling2d_14 (MaxPooling (None, 8, 8, 64)          0         \n",
      "_________________________________________________________________\n",
      "dropout_22 (Dropout)         (None, 8, 8, 64)          0         \n",
      "_________________________________________________________________\n",
      "conv2d_41 (Conv2D)           (None, 8, 8, 128)         73856     \n",
      "_________________________________________________________________\n",
      "conv2d_42 (Conv2D)           (None, 8, 8, 128)         147584    \n",
      "_________________________________________________________________\n",
      "conv2d_43 (Conv2D)           (None, 8, 8, 128)         147584    \n",
      "_________________________________________________________________\n",
      "max_pooling2d_15 (MaxPooling (None, 4, 4, 128)         0         \n",
      "_________________________________________________________________\n",
      "dropout_23 (Dropout)         (None, 4, 4, 128)         0         \n",
      "_________________________________________________________________\n",
      "flatten_5 (Flatten)          (None, 2048)              0         \n",
      "_________________________________________________________________\n",
      "dense_13 (Dense)             (None, 1024)              2098176   \n",
      "_________________________________________________________________\n",
      "dropout_24 (Dropout)         (None, 1024)              0         \n",
      "_________________________________________________________________\n",
      "dense_14 (Dense)             (None, 512)               524800    \n",
      "_________________________________________________________________\n",
      "dropout_25 (Dropout)         (None, 512)               0         \n",
      "_________________________________________________________________\n",
      "dense_15 (Dense)             (None, 10)                5130      \n",
      "=================================================================\n",
      "Total params: 3,062,698\n",
      "Trainable params: 3,062,698\n",
      "Non-trainable params: 0\n",
      "_________________________________________________________________\n"
     ]
    }
   ],
   "source": [
    "model.compile(loss='categorical_crossentropy', \n",
    "              optimizer='adam', \n",
    "              metrics=['accuracy'])\n",
    "\n",
    "model.summary()"
   ]
  },
  {
   "cell_type": "markdown",
   "metadata": {},
   "source": [
    "模型准备完成后就可以开始训练了，这里我们引入了EarlyStopping，EarlyStopping可以保证模型在准确率不在提升的前提下提前结束训练，其中monitor参数表示的是停止时参考的指标，这里我们采用的是准确率，patience的意思是多少轮指标没有改变模型训练就停止，这里我们使用的是5，也就是说如果训练五轮，准确率依旧没有提升即停止训练。"
   ]
  },
  {
   "cell_type": "code",
   "execution_count": 21,
   "metadata": {},
   "outputs": [
    {
     "name": "stdout",
     "output_type": "stream",
     "text": [
      "Epoch 1/200\n",
      "50000/50000 [==============================] - 20s 407us/step - loss: 1.7263 - acc: 0.3455\n",
      "Epoch 2/200\n",
      "50000/50000 [==============================] - 19s 385us/step - loss: 1.3489 - acc: 0.5065\n",
      "Epoch 3/200\n",
      "50000/50000 [==============================] - 19s 384us/step - loss: 1.1491 - acc: 0.5922\n",
      "Epoch 4/200\n",
      "50000/50000 [==============================] - 19s 384us/step - loss: 1.0275 - acc: 0.6387\n",
      "Epoch 5/200\n",
      "50000/50000 [==============================] - 19s 383us/step - loss: 0.9471 - acc: 0.6709\n",
      "Epoch 6/200\n",
      "50000/50000 [==============================] - 19s 384us/step - loss: 0.8785 - acc: 0.6952\n",
      "Epoch 7/200\n",
      "50000/50000 [==============================] - 19s 383us/step - loss: 0.8301 - acc: 0.70911s - los\n",
      "Epoch 8/200\n",
      "50000/50000 [==============================] - 19s 383us/step - loss: 0.8024 - acc: 0.72151s - loss: 0\n",
      "Epoch 9/200\n",
      "50000/50000 [==============================] - 19s 383us/step - loss: 0.7752 - acc: 0.7321\n",
      "Epoch 10/200\n",
      "50000/50000 [==============================] - 19s 383us/step - loss: 0.7484 - acc: 0.7428\n",
      "Epoch 11/200\n",
      "50000/50000 [==============================] - 19s 383us/step - loss: 0.7161 - acc: 0.7551\n",
      "Epoch 12/200\n",
      "50000/50000 [==============================] - 19s 383us/step - loss: 0.7087 - acc: 0.7558\n",
      "Epoch 13/200\n",
      "50000/50000 [==============================] - 19s 383us/step - loss: 0.6891 - acc: 0.7626\n",
      "Epoch 14/200\n",
      "50000/50000 [==============================] - 19s 383us/step - loss: 0.6811 - acc: 0.7653\n",
      "Epoch 15/200\n",
      "50000/50000 [==============================] - 19s 383us/step - loss: 0.6734 - acc: 0.7700\n",
      "Epoch 16/200\n",
      "50000/50000 [==============================] - 19s 383us/step - loss: 0.6560 - acc: 0.7739\n",
      "Epoch 17/200\n",
      "50000/50000 [==============================] - 19s 384us/step - loss: 0.6513 - acc: 0.7755\n",
      "Epoch 18/200\n",
      "50000/50000 [==============================] - 19s 384us/step - loss: 0.6371 - acc: 0.7816\n",
      "Epoch 19/200\n",
      "50000/50000 [==============================] - 19s 384us/step - loss: 0.6316 - acc: 0.7828\n",
      "Epoch 20/200\n",
      "50000/50000 [==============================] - 19s 384us/step - loss: 0.6175 - acc: 0.7876\n",
      "Epoch 21/200\n",
      "50000/50000 [==============================] - 19s 384us/step - loss: 0.6126 - acc: 0.7906\n",
      "Epoch 22/200\n",
      "50000/50000 [==============================] - 19s 384us/step - loss: 0.6073 - acc: 0.7909\n",
      "Epoch 23/200\n",
      "50000/50000 [==============================] - 19s 384us/step - loss: 0.6062 - acc: 0.7930\n",
      "Epoch 24/200\n",
      "50000/50000 [==============================] - 19s 384us/step - loss: 0.6033 - acc: 0.7946\n",
      "Epoch 25/200\n",
      "50000/50000 [==============================] - 19s 384us/step - loss: 0.5980 - acc: 0.7966\n",
      "Epoch 26/200\n",
      "50000/50000 [==============================] - 19s 384us/step - loss: 0.5884 - acc: 0.7983\n",
      "Epoch 27/200\n",
      "50000/50000 [==============================] - 19s 383us/step - loss: 0.5862 - acc: 0.8008\n",
      "Epoch 28/200\n",
      "50000/50000 [==============================] - 19s 384us/step - loss: 0.5827 - acc: 0.8015\n",
      "Epoch 29/200\n",
      "50000/50000 [==============================] - 19s 384us/step - loss: 0.5774 - acc: 0.8046\n",
      "Epoch 30/200\n",
      "50000/50000 [==============================] - 19s 383us/step - loss: 0.5809 - acc: 0.8033\n",
      "Epoch 31/200\n",
      "50000/50000 [==============================] - 19s 383us/step - loss: 0.5700 - acc: 0.8054\n",
      "Epoch 32/200\n",
      "50000/50000 [==============================] - 19s 384us/step - loss: 0.5722 - acc: 0.8062\n",
      "Epoch 33/200\n",
      "50000/50000 [==============================] - 19s 384us/step - loss: 0.5716 - acc: 0.80671s - loss: 0\n",
      "Epoch 34/200\n",
      "50000/50000 [==============================] - 19s 383us/step - loss: 0.5783 - acc: 0.8035\n",
      "Epoch 35/200\n",
      "50000/50000 [==============================] - 19s 384us/step - loss: 0.5658 - acc: 0.8091\n",
      "Epoch 36/200\n",
      "50000/50000 [==============================] - 19s 384us/step - loss: 0.5634 - acc: 0.8085\n",
      "Epoch 37/200\n",
      "50000/50000 [==============================] - 19s 384us/step - loss: 0.5615 - acc: 0.8092\n",
      "Epoch 38/200\n",
      "50000/50000 [==============================] - 19s 382us/step - loss: 0.5630 - acc: 0.8102\n",
      "Epoch 39/200\n",
      "50000/50000 [==============================] - 19s 381us/step - loss: 0.5610 - acc: 0.8096\n",
      "Epoch 40/200\n",
      "50000/50000 [==============================] - 19s 383us/step - loss: 0.5531 - acc: 0.8132\n",
      "Epoch 41/200\n",
      "50000/50000 [==============================] - 19s 382us/step - loss: 0.5627 - acc: 0.8130\n",
      "Epoch 42/200\n",
      "50000/50000 [==============================] - 19s 382us/step - loss: 0.5492 - acc: 0.8143\n",
      "Epoch 43/200\n",
      "50000/50000 [==============================] - 19s 382us/step - loss: 0.5550 - acc: 0.8131\n",
      "Epoch 44/200\n",
      "50000/50000 [==============================] - 19s 382us/step - loss: 0.5574 - acc: 0.8123\n",
      "Epoch 45/200\n",
      "50000/50000 [==============================] - 19s 381us/step - loss: 0.5503 - acc: 0.8158\n",
      "Epoch 46/200\n",
      "50000/50000 [==============================] - 19s 382us/step - loss: 0.5444 - acc: 0.8175\n",
      "Epoch 47/200\n",
      "50000/50000 [==============================] - 19s 389us/step - loss: 0.5573 - acc: 0.8140\n",
      "Epoch 48/200\n",
      "50000/50000 [==============================] - 19s 384us/step - loss: 0.5466 - acc: 0.8149\n",
      "Epoch 49/200\n",
      "50000/50000 [==============================] - 19s 384us/step - loss: 0.5460 - acc: 0.8177\n",
      "Epoch 50/200\n",
      "50000/50000 [==============================] - 19s 385us/step - loss: 0.5403 - acc: 0.8209\n",
      "Epoch 51/200\n",
      "50000/50000 [==============================] - 19s 384us/step - loss: 0.5415 - acc: 0.8183\n",
      "Epoch 52/200\n",
      "50000/50000 [==============================] - 19s 384us/step - loss: 0.5508 - acc: 0.8158\n",
      "Epoch 53/200\n",
      "50000/50000 [==============================] - 19s 384us/step - loss: 0.5397 - acc: 0.8183\n",
      "Epoch 54/200\n",
      "50000/50000 [==============================] - 19s 385us/step - loss: 0.5408 - acc: 0.8183\n",
      "Epoch 55/200\n",
      "50000/50000 [==============================] - 19s 386us/step - loss: 0.5576 - acc: 0.8126\n",
      "Epoch 00055: early stopping\n"
     ]
    },
    {
     "data": {
      "text/plain": [
       "<keras.callbacks.History at 0x2c1368fc400>"
      ]
     },
     "execution_count": 21,
     "metadata": {},
     "output_type": "execute_result"
    }
   ],
   "source": [
    "from keras.callbacks import EarlyStopping\n",
    "early_stopping = EarlyStopping(monitor='acc', patience=5, verbose=1)\n",
    "model.fit(x_train, y_train, batch_size=64, epochs=200, callbacks=[early_stopping])"
   ]
  },
  {
   "cell_type": "markdown",
   "metadata": {},
   "source": [
    "最后我们就可以在测试集进行测试了，可以看到最后的准确率在79.28%，当然了，读者也可以自行对上文的VGG参数进行调整来提高模型的最终效果。"
   ]
  },
  {
   "cell_type": "code",
   "execution_count": 22,
   "metadata": {},
   "outputs": [
    {
     "name": "stdout",
     "output_type": "stream",
     "text": [
      "10000/10000 [==============================] - 1s 138us/step\n",
      "Test accuracy: 0.7918\n"
     ]
    }
   ],
   "source": [
    "score = model.evaluate(x_test, y_test, batch_size=64)\n",
    "print('Test accuracy:', score[1])"
   ]
  }
 ],
 "metadata": {
  "kernelspec": {
   "display_name": "Python 3",
   "language": "python",
   "name": "python3"
  },
  "language_info": {
   "codemirror_mode": {
    "name": "ipython",
    "version": 3
   },
   "file_extension": ".py",
   "mimetype": "text/x-python",
   "name": "python",
   "nbconvert_exporter": "python",
   "pygments_lexer": "ipython3",
   "version": "3.6.6"
  }
 },
 "nbformat": 4,
 "nbformat_minor": 2
}
